Open in Colab
In [9]:
#*************Q1******************
altitude = input("Altitude - ")
altitude = int(altitude)
if altitude<=1000:
  print ('Safe to land')
elif altitude>1000 and altitude<=5000:
  print ('Bring down to 1000')
else:
  print('Turn around')
Altitude - 5000
Bring down to 1000
In [11]:
#****************Q2****************
for Number in range (1, 201):
    count = 0
    for i in range(2, (Number//2 + 1)):
        if(Number % i == 0):
            count = count + 1
            break

    if (count == 0 and Number != 1):
        print(" %d" %Number, end = '  ')
 2   3   5   7   11   13   17   19   23   29   31   37   41   43   47   53   59   61   67   71   73   79   83   89   97   101   103   107   109   113   127   131   137   139   149   151   157   163   167   173   179   181   191   193   197   199  
